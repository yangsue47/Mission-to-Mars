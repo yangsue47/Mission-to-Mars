{
 "cells": [
  {
   "cell_type": "code",
   "execution_count": 2,
   "id": "0edc334e",
   "metadata": {},
   "outputs": [],
   "source": [
    "from splinter import Browser\n",
    "from bs4 import BeautifulSoup as soup\n",
    "from webdriver_manager.chrome import ChromeDriverManager"
   ]
  },
  {
   "cell_type": "code",
   "execution_count": 3,
   "id": "d46e0afa",
   "metadata": {},
   "outputs": [
    {
     "name": "stderr",
     "output_type": "stream",
     "text": [
      "\n",
      "\n",
      "====== WebDriver manager ======\n",
      "Current google-chrome version is 98.0.4758\n",
      "Get LATEST chromedriver version for 98.0.4758 google-chrome\n",
      "There is no [win32] chromedriver for browser  in cache\n",
      "Trying to download new driver from https://chromedriver.storage.googleapis.com/98.0.4758.102/chromedriver_win32.zip\n",
      "Driver has been saved in cache [C:\\Users\\npawg\\.wdm\\drivers\\chromedriver\\win32\\98.0.4758.102]\n"
     ]
    }
   ],
   "source": [
    "# Set up Splinter\n",
    "executable_path = {'executable_path': ChromeDriverManager().install()}\n",
    "browser = Browser('chrome', **executable_path, headless=False)"
   ]
  },
  {
   "cell_type": "code",
   "execution_count": 4,
   "id": "f08af9de",
   "metadata": {},
   "outputs": [],
   "source": [
    "# visit the Quotes to scrape site\n",
    "url = 'http://quotes.toscrape.com/'\n",
    "browser.visit(url)"
   ]
  },
  {
   "cell_type": "code",
   "execution_count": 5,
   "id": "a6c9e32e",
   "metadata": {},
   "outputs": [],
   "source": [
    "# parse the HTML\n",
    "html = browser.html\n",
    "html_soup = soup(html, 'html.parser')"
   ]
  },
  {
   "cell_type": "code",
   "execution_count": 6,
   "id": "6b4b8924",
   "metadata": {},
   "outputs": [
    {
     "data": {
      "text/plain": [
       "'Top Ten tags'"
      ]
     },
     "execution_count": 6,
     "metadata": {},
     "output_type": "execute_result"
    }
   ],
   "source": [
    "# scrape the title\n",
    "title = html_soup.find('h2').text\n",
    "title"
   ]
  },
  {
   "cell_type": "code",
   "execution_count": 7,
   "id": "c8cb156b",
   "metadata": {},
   "outputs": [
    {
     "name": "stdout",
     "output_type": "stream",
     "text": [
      "love\n",
      "inspirational\n",
      "life\n",
      "humor\n",
      "books\n",
      "reading\n",
      "friendship\n",
      "friends\n",
      "truth\n",
      "simile\n"
     ]
    }
   ],
   "source": [
    "# scrape the top ten tags\n",
    "tag_box = html_soup.find('div', class_='tags-box')\n",
    "\n",
    "# tag_box\n",
    "tags = tag_box.find_all('a', class_='tag')\n",
    "\n",
    "for tag in tags:\n",
    "    word = tag.text\n",
    "    print(word)"
   ]
  },
  {
   "cell_type": "code",
   "execution_count": 8,
   "id": "08b9f595",
   "metadata": {},
   "outputs": [
    {
     "name": "stdout",
     "output_type": "stream",
     "text": [
      "page: 1 -------------\n",
      "“The world as we have created it is a process of our thinking. It cannot be changed without changing our thinking.”\n",
      "page: 1 -------------\n",
      "“It is our choices, Harry, that show what we truly are, far more than our abilities.”\n",
      "page: 1 -------------\n",
      "“There are only two ways to live your life. One is as though nothing is a miracle. The other is as though everything is a miracle.”\n",
      "page: 1 -------------\n",
      "“The person, be it gentleman or lady, who has not pleasure in a good novel, must be intolerably stupid.”\n",
      "page: 1 -------------\n",
      "“Imperfection is beauty, madness is genius and it's better to be absolutely ridiculous than absolutely boring.”\n",
      "page: 1 -------------\n",
      "“Try not to become a man of success. Rather become a man of value.”\n",
      "page: 1 -------------\n",
      "“It is better to be hated for what you are than to be loved for what you are not.”\n",
      "page: 1 -------------\n",
      "“I have not failed. I've just found 10,000 ways that won't work.”\n",
      "page: 1 -------------\n",
      "“A woman is like a tea bag; you never know how strong it is until it's in hot water.”\n",
      "page: 1 -------------\n",
      "“A day without sunshine is like, you know, night.”\n",
      "page: 2 -------------\n",
      "“This life is what you make it. No matter what, you're going to mess up sometimes, it's a universal truth. But the good part is you get to decide how you're going to mess it up. Girls will be your friends - they'll act like it anyway. But just remember, some come, some go. The ones that stay with you through everything - they're your true best friends. Don't let go of them. Also remember, sisters make the best friends in the world. As for lovers, well, they'll come and go too. And baby, I hate to say it, most of them - actually pretty much all of them are going to break your heart, but you can't give up because if you give up, you'll never find your soulmate. You'll never find that half who makes you whole and that goes for everything. Just because you fail once, doesn't mean you're gonna fail at everything. Keep trying, hold on, and always, always, always believe in yourself, because if you don't, then who will, sweetie? So keep your head high, keep your chin up, and most importantly, keep smiling, because life's a beautiful thing and there's so much to smile about.”\n",
      "page: 2 -------------\n",
      "“It takes a great deal of bravery to stand up to our enemies, but just as much to stand up to our friends.”\n",
      "page: 2 -------------\n",
      "“If you can't explain it to a six year old, you don't understand it yourself.”\n",
      "page: 2 -------------\n",
      "“You may not be her first, her last, or her only. She loved before she may love again. But if she loves you now, what else matters? She's not perfect—you aren't either, and the two of you may never be perfect together but if she can make you laugh, cause you to think twice, and admit to being human and making mistakes, hold onto her and give her the most you can. She may not be thinking about you every second of the day, but she will give you a part of her that she knows you can break—her heart. So don't hurt her, don't change her, don't analyze and don't expect more than she can give. Smile when she makes you happy, let her know when she makes you mad, and miss her when she's not there.”\n",
      "page: 2 -------------\n",
      "“I like nonsense, it wakes up the brain cells. Fantasy is a necessary ingredient in living.”\n",
      "page: 2 -------------\n",
      "“I may not have gone where I intended to go, but I think I have ended up where I needed to be.”\n",
      "page: 2 -------------\n",
      "“The opposite of love is not hate, it's indifference. The opposite of art is not ugliness, it's indifference. The opposite of faith is not heresy, it's indifference. And the opposite of life is not death, it's indifference.”\n",
      "page: 2 -------------\n",
      "“It is not a lack of love, but a lack of friendship that makes unhappy marriages.”\n",
      "page: 2 -------------\n",
      "“Good friends, good books, and a sleepy conscience: this is the ideal life.”\n",
      "page: 2 -------------\n",
      "“Life is what happens to us while we are making other plans.”\n",
      "page: 3 -------------\n",
      "“I love you without knowing how, or when, or from where. I love you simply, without problems or pride: I love you in this way because I do not know any other way of loving but this, in which there is no I or you, so intimate that your hand upon my chest is my hand, so intimate that when I fall asleep your eyes close.”\n",
      "page: 3 -------------\n",
      "“For every minute you are angry you lose sixty seconds of happiness.”\n",
      "page: 3 -------------\n",
      "“If you judge people, you have no time to love them.”\n",
      "page: 3 -------------\n",
      "“Anyone who thinks sitting in church can make you a Christian must also think that sitting in a garage can make you a car.”\n",
      "page: 3 -------------\n",
      "“Beauty is in the eye of the beholder and it may be necessary from time to time to give a stupid or misinformed beholder a black eye.”\n",
      "page: 3 -------------\n",
      "“Today you are You, that is truer than true. There is no one alive who is Youer than You.”\n",
      "page: 3 -------------\n",
      "“If you want your children to be intelligent, read them fairy tales. If you want them to be more intelligent, read them more fairy tales.”\n",
      "page: 3 -------------\n",
      "“It is impossible to live without failing at something, unless you live so cautiously that you might as well not have lived at all - in which case, you fail by default.”\n",
      "page: 3 -------------\n",
      "“Logic will get you from A to Z; imagination will get you everywhere.”\n",
      "page: 3 -------------\n",
      "“One good thing about music, when it hits you, you feel no pain.”\n",
      "page: 4 -------------\n",
      "“The more that you read, the more things you will know. The more that you learn, the more places you'll go.”\n",
      "page: 4 -------------\n",
      "“Of course it is happening inside your head, Harry, but why on earth should that mean that it is not real?”\n",
      "page: 4 -------------\n",
      "“The truth is, everyone is going to hurt you. You just got to find the ones worth suffering for.”\n",
      "page: 4 -------------\n",
      "“Not all of us can do great things. But we can do small things with great love.”\n",
      "page: 4 -------------\n",
      "“To the well-organized mind, death is but the next great adventure.”\n",
      "page: 4 -------------\n",
      "“All you need is love. But a little chocolate now and then doesn't hurt.”\n",
      "page: 4 -------------\n",
      "“We read to know we're not alone.”\n",
      "page: 4 -------------\n",
      "“Any fool can know. The point is to understand.”\n",
      "page: 4 -------------\n",
      "“I have always imagined that Paradise will be a kind of library.”\n",
      "page: 4 -------------\n",
      "“It is never too late to be what you might have been.”\n",
      "page: 5 -------------\n",
      "“A reader lives a thousand lives before he dies, said Jojen. The man who never reads lives only one.”\n",
      "page: 5 -------------\n",
      "“You can never get a cup of tea large enough or a book long enough to suit me.”\n",
      "page: 5 -------------\n",
      "“You believe lies so you eventually learn to trust no one but yourself.”\n",
      "page: 5 -------------\n",
      "“If you can make a woman laugh, you can make her do anything.”\n",
      "page: 5 -------------\n",
      "“Life is like riding a bicycle. To keep your balance, you must keep moving.”\n",
      "page: 5 -------------\n",
      "“The real lover is the man who can thrill you by kissing your forehead or smiling into your eyes or just staring into space.”\n",
      "page: 5 -------------\n",
      "“A wise girl kisses but doesn't love, listens but doesn't believe, and leaves before she is left.”\n",
      "page: 5 -------------\n",
      "“Only in the darkness can you see the stars.”\n",
      "page: 5 -------------\n",
      "“It matters not what someone is born, but what they grow to be.”\n",
      "page: 5 -------------\n",
      "“Love does not begin and end the way we seem to think it does. Love is a battle, love is a war; love is a growing up.”\n"
     ]
    }
   ],
   "source": [
    "for x in range(1, 6):\n",
    "    html = browser.html\n",
    "    quote_soup = soup(html, 'html.parser')\n",
    "    quotes = quote_soup.find_all('span', class_= 'text')\n",
    "    for quote in quotes:\n",
    "        print('page:', x, '-------------')\n",
    "        print(quote.text)\n",
    "    browser.links.find_by_partial_text('Next').click()"
   ]
  },
  {
   "cell_type": "code",
   "execution_count": 25,
   "id": "57d1c165",
   "metadata": {},
   "outputs": [
    {
     "name": "stdout",
     "output_type": "stream",
     "text": [
      "index.html\n",
      "index.html\n",
      "catalogue/category/books_1/index.html\n",
      "catalogue/category/books/travel_2/index.html\n",
      "catalogue/category/books/mystery_3/index.html\n",
      "catalogue/category/books/historical-fiction_4/index.html\n",
      "catalogue/category/books/sequential-art_5/index.html\n",
      "catalogue/category/books/classics_6/index.html\n",
      "catalogue/category/books/philosophy_7/index.html\n",
      "catalogue/category/books/romance_8/index.html\n",
      "catalogue/category/books/womens-fiction_9/index.html\n",
      "catalogue/category/books/fiction_10/index.html\n",
      "catalogue/category/books/childrens_11/index.html\n",
      "catalogue/category/books/religion_12/index.html\n",
      "catalogue/category/books/nonfiction_13/index.html\n",
      "catalogue/category/books/music_14/index.html\n",
      "catalogue/category/books/default_15/index.html\n",
      "catalogue/category/books/science-fiction_16/index.html\n",
      "catalogue/category/books/sports-and-games_17/index.html\n",
      "catalogue/category/books/add-a-comment_18/index.html\n",
      "catalogue/category/books/fantasy_19/index.html\n",
      "catalogue/category/books/new-adult_20/index.html\n",
      "catalogue/category/books/young-adult_21/index.html\n",
      "catalogue/category/books/science_22/index.html\n",
      "catalogue/category/books/poetry_23/index.html\n",
      "catalogue/category/books/paranormal_24/index.html\n",
      "catalogue/category/books/art_25/index.html\n",
      "catalogue/category/books/psychology_26/index.html\n",
      "catalogue/category/books/autobiography_27/index.html\n",
      "catalogue/category/books/parenting_28/index.html\n",
      "catalogue/category/books/adult-fiction_29/index.html\n",
      "catalogue/category/books/humor_30/index.html\n",
      "catalogue/category/books/horror_31/index.html\n",
      "catalogue/category/books/history_32/index.html\n",
      "catalogue/category/books/food-and-drink_33/index.html\n",
      "catalogue/category/books/christian-fiction_34/index.html\n",
      "catalogue/category/books/business_35/index.html\n",
      "catalogue/category/books/biography_36/index.html\n",
      "catalogue/category/books/thriller_37/index.html\n",
      "catalogue/category/books/contemporary_38/index.html\n",
      "catalogue/category/books/spirituality_39/index.html\n",
      "catalogue/category/books/academic_40/index.html\n",
      "catalogue/category/books/self-help_41/index.html\n",
      "catalogue/category/books/historical_42/index.html\n",
      "catalogue/category/books/christian_43/index.html\n",
      "catalogue/category/books/suspense_44/index.html\n",
      "catalogue/category/books/short-stories_45/index.html\n",
      "catalogue/category/books/novels_46/index.html\n",
      "catalogue/category/books/health_47/index.html\n",
      "catalogue/category/books/politics_48/index.html\n",
      "catalogue/category/books/cultural_49/index.html\n",
      "catalogue/category/books/erotica_50/index.html\n",
      "catalogue/category/books/crime_51/index.html\n",
      "catalogue/a-light-in-the-attic_1000/index.html\n",
      "catalogue/a-light-in-the-attic_1000/index.html\n",
      "catalogue/tipping-the-velvet_999/index.html\n",
      "catalogue/tipping-the-velvet_999/index.html\n",
      "catalogue/soumission_998/index.html\n",
      "catalogue/soumission_998/index.html\n",
      "catalogue/sharp-objects_997/index.html\n",
      "catalogue/sharp-objects_997/index.html\n",
      "catalogue/sapiens-a-brief-history-of-humankind_996/index.html\n",
      "catalogue/sapiens-a-brief-history-of-humankind_996/index.html\n",
      "catalogue/the-requiem-red_995/index.html\n",
      "catalogue/the-requiem-red_995/index.html\n",
      "catalogue/the-dirty-little-secrets-of-getting-your-dream-job_994/index.html\n",
      "catalogue/the-dirty-little-secrets-of-getting-your-dream-job_994/index.html\n",
      "catalogue/the-coming-woman-a-novel-based-on-the-life-of-the-infamous-feminist-victoria-woodhull_993/index.html\n",
      "catalogue/the-coming-woman-a-novel-based-on-the-life-of-the-infamous-feminist-victoria-woodhull_993/index.html\n",
      "catalogue/the-boys-in-the-boat-nine-americans-and-their-epic-quest-for-gold-at-the-1936-berlin-olympics_992/index.html\n",
      "catalogue/the-boys-in-the-boat-nine-americans-and-their-epic-quest-for-gold-at-the-1936-berlin-olympics_992/index.html\n",
      "catalogue/the-black-maria_991/index.html\n",
      "catalogue/the-black-maria_991/index.html\n",
      "catalogue/starving-hearts-triangular-trade-trilogy-1_990/index.html\n",
      "catalogue/starving-hearts-triangular-trade-trilogy-1_990/index.html\n",
      "catalogue/shakespeares-sonnets_989/index.html\n",
      "catalogue/shakespeares-sonnets_989/index.html\n",
      "catalogue/set-me-free_988/index.html\n",
      "catalogue/set-me-free_988/index.html\n",
      "catalogue/scott-pilgrims-precious-little-life-scott-pilgrim-1_987/index.html\n",
      "catalogue/scott-pilgrims-precious-little-life-scott-pilgrim-1_987/index.html\n",
      "catalogue/rip-it-up-and-start-again_986/index.html\n",
      "catalogue/rip-it-up-and-start-again_986/index.html\n",
      "catalogue/our-band-could-be-your-life-scenes-from-the-american-indie-underground-1981-1991_985/index.html\n",
      "catalogue/our-band-could-be-your-life-scenes-from-the-american-indie-underground-1981-1991_985/index.html\n",
      "catalogue/olio_984/index.html\n",
      "catalogue/olio_984/index.html\n",
      "catalogue/mesaerion-the-best-science-fiction-stories-1800-1849_983/index.html\n",
      "catalogue/mesaerion-the-best-science-fiction-stories-1800-1849_983/index.html\n",
      "catalogue/libertarianism-for-beginners_982/index.html\n",
      "catalogue/libertarianism-for-beginners_982/index.html\n",
      "catalogue/its-only-the-himalayas_981/index.html\n",
      "catalogue/its-only-the-himalayas_981/index.html\n",
      "catalogue/page-2.html\n"
     ]
    }
   ],
   "source": [
    "# visit the Quotes to scrape site\n",
    "url = 'http://books.toscrape.com/'\n",
    "browser.visit(url)\n",
    "\n",
    "html = browser.html\n",
    "title_soup = soup(html, 'html.parser')\n",
    "\n",
    "titles = title_soup.find_all('a')\n",
    "\n",
    "for title in titles:\n",
    "    print(title.get('href'))"
   ]
  },
  {
   "cell_type": "code",
   "execution_count": null,
   "id": "e2bd4234",
   "metadata": {},
   "outputs": [],
   "source": []
  }
 ],
 "metadata": {
  "kernelspec": {
   "display_name": "Python 3 (ipykernel)",
   "language": "python",
   "name": "python3"
  },
  "language_info": {
   "codemirror_mode": {
    "name": "ipython",
    "version": 3
   },
   "file_extension": ".py",
   "mimetype": "text/x-python",
   "name": "python",
   "nbconvert_exporter": "python",
   "pygments_lexer": "ipython3",
   "version": "3.7.11"
  }
 },
 "nbformat": 4,
 "nbformat_minor": 5
}
